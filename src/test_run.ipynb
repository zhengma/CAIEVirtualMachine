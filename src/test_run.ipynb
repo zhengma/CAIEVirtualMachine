{
 "cells": [
  {
   "cell_type": "code",
   "execution_count": 1,
   "id": "4bc1c369-e8dd-436c-bd88-02c1a94b2b1e",
   "metadata": {},
   "outputs": [],
   "source": [
    "from caie_vm import caie_vm"
   ]
  },
  {
   "cell_type": "code",
   "execution_count": 2,
   "id": "618d28a6-9767-4cbd-9865-8123cdc64811",
   "metadata": {},
   "outputs": [],
   "source": [
    "test_program_division = [\n",
    "    ['LDD', 200],\n",
    "    ['STO', 202],\n",
    "    ['STO', 203],\n",
    "    ['LDD', 202],\n",
    "    ['INC', 'ACC'],\n",
    "    ['STO', 202],\n",
    "    ['LDD', 203],\n",
    "    ['ADD', 201],\n",
    "    ['STO', 203],\n",
    "    ['CMP', 204],\n",
    "    ['JPN', 103],\n",
    "    ['LDD', 202],\n",
    "    ['OUT'],\n",
    "    ['END']] + [[]] * 86 + [0, 5, None, None, 75]"
   ]
  },
  {
   "cell_type": "code",
   "execution_count": 3,
   "id": "6c0ec5c7-caa8-48a4-9774-4dc92bc9ffd2",
   "metadata": {},
   "outputs": [],
   "source": [
    "test_run = caie_vm(100, test_program_division)"
   ]
  },
  {
   "cell_type": "code",
   "execution_count": 5,
   "id": "74949086-1720-4a88-91bf-4944024f597a",
   "metadata": {},
   "outputs": [
    {
     "name": "stdout",
     "output_type": "stream",
     "text": [
      "---------- Registers: ----------\n",
      "ACC: 0\n",
      "\n",
      "BR: 100\n",
      "PC: 100\n",
      "IX: 0\n",
      "flag: False\n",
      "\n"
     ]
    }
   ],
   "source": [
    "test_run.show_status()"
   ]
  },
  {
   "cell_type": "code",
   "execution_count": 6,
   "id": "80915200-a417-4346-bf86-1e74b1f66531",
   "metadata": {},
   "outputs": [
    {
     "name": "stdout",
     "output_type": "stream",
     "text": [
      "[['LDD', 200], ['STO', 202], ['STO', 203], ['LDD', 202], ['INC', 'ACC'], ['STO', 202], ['LDD', 203], ['ADD', 201], ['STO', 203], ['CMP', 204], ['JPN', 103], ['LDD', 202], ['OUT'], ['END'], [], [], [], [], [], [], [], [], [], [], [], [], [], [], [], [], [], [], [], [], [], [], [], [], [], [], [], [], [], [], [], [], [], [], [], [], [], [], [], [], [], [], [], [], [], [], [], [], [], [], [], [], [], [], [], [], [], [], [], [], [], [], [], [], [], [], [], [], [], [], [], [], [], [], [], [], [], [], [], [], [], [], [], [], [], [], 0, 5, None, None, 75]\n"
     ]
    }
   ],
   "source": [
    "test_run.show_memory()"
   ]
  },
  {
   "cell_type": "code",
   "execution_count": 12,
   "id": "ae67806d-d946-432a-9617-3d9a9b3a98ef",
   "metadata": {},
   "outputs": [
    {
     "name": "stdout",
     "output_type": "stream",
     "text": [
      "['STO', 202]\n",
      "---------- Registers: ----------\n",
      "ACC: 1\n",
      "\n",
      "BR: 100\n",
      "PC: 105\n",
      "IX: 0\n",
      "flag: False\n",
      "\n",
      "[['LDD', 200], ['STO', 202], ['STO', 203], ['LDD', 202], ['INC', 'ACC'], ['STO', 202], ['LDD', 203], ['ADD', 201], ['STO', 203], ['CMP', 204], ['JPN', 103], ['LDD', 202], ['OUT'], ['END'], [], [], [], [], [], [], [], [], [], [], [], [], [], [], [], [], [], [], [], [], [], [], [], [], [], [], [], [], [], [], [], [], [], [], [], [], [], [], [], [], [], [], [], [], [], [], [], [], [], [], [], [], [], [], [], [], [], [], [], [], [], [], [], [], [], [], [], [], [], [], [], [], [], [], [], [], [], [], [], [], [], [], [], [], [], [], 0, 5, 1, 0, 75]\n"
     ]
    }
   ],
   "source": [
    "test_run.single_step()"
   ]
  },
  {
   "cell_type": "code",
   "execution_count": 27,
   "id": "1f61de81-4eec-4c4c-b8b1-de7189592c17",
   "metadata": {},
   "outputs": [
    {
     "name": "stdout",
     "output_type": "stream",
     "text": [
      "15\n"
     ]
    }
   ],
   "source": [
    "test_run.execute()"
   ]
  },
  {
   "cell_type": "code",
   "execution_count": 28,
   "id": "8e2eb81a-90a1-43c2-a6af-48c1baa75290",
   "metadata": {},
   "outputs": [
    {
     "name": "stdout",
     "output_type": "stream",
     "text": [
      "---------- Registers: ----------\n",
      "ACC: 15\n",
      "\n",
      "BR: 100\n",
      "PC: 113\n",
      "IX: 0\n",
      "flag: True\n",
      "\n"
     ]
    }
   ],
   "source": [
    "test_run.show_status()"
   ]
  },
  {
   "cell_type": "code",
   "execution_count": 29,
   "id": "1d609422-b3c7-45c6-af63-584c2b558e49",
   "metadata": {},
   "outputs": [
    {
     "name": "stdout",
     "output_type": "stream",
     "text": [
      "[['LDD', 200], ['STO', 202], ['STO', 203], ['LDD', 202], ['INC', 'ACC'], ['STO', 202], ['LDD', 203], ['ADD', 201], ['STO', 203], ['CMP', 204], ['JPN', 103], ['LDD', 202], ['OUT'], ['END'], [], [], [], [], [], [], [], [], [], [], [], [], [], [], [], [], [], [], [], [], [], [], [], [], [], [], [], [], [], [], [], [], [], [], [], [], [], [], [], [], [], [], [], [], [], [], [], [], [], [], [], [], [], [], [], [], [], [], [], [], [], [], [], [], [], [], [], [], [], [], [], [], [], [], [], [], [], [], [], [], [], [], [], [], [], [], 0, 5, 15, 75, 75]\n"
     ]
    }
   ],
   "source": [
    "test_run.show_memory()"
   ]
  }
 ],
 "metadata": {
  "kernelspec": {
   "display_name": "Python 3 (ipykernel)",
   "language": "python",
   "name": "python3"
  },
  "language_info": {
   "codemirror_mode": {
    "name": "ipython",
    "version": 3
   },
   "file_extension": ".py",
   "mimetype": "text/x-python",
   "name": "python",
   "nbconvert_exporter": "python",
   "pygments_lexer": "ipython3",
   "version": "3.11.0"
  }
 },
 "nbformat": 4,
 "nbformat_minor": 5
}
