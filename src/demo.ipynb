{
 "cells": [
  {
   "cell_type": "code",
   "execution_count": 4,
   "id": "eb61be21-f06c-4ba8-a519-b3e12fb44138",
   "metadata": {},
   "outputs": [
    {
     "name": "stdout",
     "output_type": "stream",
     "text": [
      "\n",
      "********** CAIE指令集架构仿真器 v1.0 **********\n",
      "*                                             *\n",
      "*                    马 正                    *\n",
      "*       渊学通教育广州分校, 上海科桥教育      *\n",
      "***********************************************\n",
      "\n",
      "Result:\n",
      "15\n"
     ]
    }
   ],
   "source": [
    "from caie_assembler import caie_assembler\n",
    "from caie_vm import caie_vm\n",
    "\n",
    "test_assemble = caie_assembler('.\\Examples\\division.casm')\n",
    "exe = test_assemble.generate(100, 200)\n",
    "test_run = caie_vm(100, exe)\n",
    "test_run.execute()"
   ]
  },
  {
   "cell_type": "code",
   "execution_count": null,
   "id": "f88a414d-cd4f-4fc7-95f2-cce8e9b18a3c",
   "metadata": {},
   "outputs": [],
   "source": []
  }
 ],
 "metadata": {
  "kernelspec": {
   "display_name": "Python 3 (ipykernel)",
   "language": "python",
   "name": "python3"
  },
  "language_info": {
   "codemirror_mode": {
    "name": "ipython",
    "version": 3
   },
   "file_extension": ".py",
   "mimetype": "text/x-python",
   "name": "python",
   "nbconvert_exporter": "python",
   "pygments_lexer": "ipython3",
   "version": "3.11.0"
  }
 },
 "nbformat": 4,
 "nbformat_minor": 5
}
